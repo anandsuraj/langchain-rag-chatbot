{
 "cells": [
  {
   "cell_type": "markdown",
   "id": "8b754003",
   "metadata": {},
   "source": [
    "## Retriever And Chain With Langchain"
   ]
  },
  {
   "cell_type": "code",
   "execution_count": null,
   "id": "e20715e1",
   "metadata": {},
   "outputs": [],
   "source": [
    "from langchain_community.document_loaders import PyPDFLoader\n",
    "loader= PyPDFLoader(\"ekaivakriti_pitch_deck.pdf\")\n",
    "pdf_docs = loader.load()\n"
   ]
  },
  {
   "cell_type": "markdown",
   "id": "097aecbd",
   "metadata": {},
   "source": [
    "## Splitting"
   ]
  },
  {
   "cell_type": "code",
   "execution_count": null,
   "id": "14e69fc3",
   "metadata": {},
   "outputs": [],
   "source": [
    "from langchain.text_splitter import RecursiveCharacterTextSplitter\n",
    "text_splitter = RecursiveCharacterTextSplitter(\n",
    "    chunk_size=1000,\n",
    "    chunk_overlap=200,\n",
    "    length_function=len,\n",
    ")\n",
    "chunks_documents = text_splitter.split_documents(pdf_docs)"
   ]
  },
  {
   "cell_type": "markdown",
   "id": "2564ed36",
   "metadata": {},
   "source": [
    "## Vector Embeddings & Vector Store using Faiss\n"
   ]
  },
  {
   "cell_type": "code",
   "execution_count": null,
   "id": "94e9ddc7",
   "metadata": {},
   "outputs": [],
   "source": [
    "from langchain_community.embeddings import OpenAIEmbeddings\n",
    "from langchain_community.embeddings import OllamaEmbeddings\n",
    "from langchain_community.vectorstores import FAISS\n",
    "\n",
    "db = FAISS.from_documents(chunks_documents, OpenAIEmbeddings())\n",
    "db"
   ]
  },
  {
   "cell_type": "markdown",
   "id": "5e1d315f",
   "metadata": {},
   "source": [
    "## Quering\n"
   ]
  },
  {
   "cell_type": "code",
   "execution_count": null,
   "id": "4cc1ce54",
   "metadata": {},
   "outputs": [],
   "source": [
    "query = \"contact details of ekaivakriti\"\n",
    "retrieved_results = db.similarity_search(query, k=1)\n",
    "print(retrieved_results[0].page_content)\n",
    "\n",
    "    "
   ]
  },
  {
   "cell_type": "markdown",
   "id": "b708c237",
   "metadata": {},
   "source": [
    "# Retriever & Chain\n",
    "## Chat prompt Template\n"
   ]
  },
  {
   "cell_type": "code",
   "execution_count": null,
   "id": "94ceea6d",
   "metadata": {},
   "outputs": [],
   "source": [
    "from langchain_core.prompts import ChatPromptTemplate\n",
    "\n",
    "prompt = ChatPromptTemplate.from_template(\n",
    "    \"\"\"You are a helpful assistant. Think step by step before answering, I will reward you if you provide me the correct and most relevant answer. Use the following pieces of context to answer the question at the end.\n",
    "    <context>\n",
    "    {context}\n",
    "    </context>\n",
    "    Question: {input}\n",
    "\"\"\"\n",
    ")"
   ]
  },
  {
   "cell_type": "markdown",
   "id": "1acaeac9",
   "metadata": {},
   "source": [
    "\n",
    "# Opensourse LLM\n"
   ]
  },
  {
   "cell_type": "code",
   "execution_count": null,
   "id": "99ac3522",
   "metadata": {},
   "outputs": [],
   "source": [
    "from langchain_community.llms import Ollama\n",
    "llm = Ollama(model=\"llama2\", temperature=0.1)\n",
    "llm\n"
   ]
  },
  {
   "cell_type": "markdown",
   "id": "1bce1a2d",
   "metadata": {},
   "source": [
    "## Chain"
   ]
  },
  {
   "cell_type": "code",
   "execution_count": null,
   "id": "43710823",
   "metadata": {},
   "outputs": [],
   "source": [
    "from langchain.chains.combine_documents import create_stuff_documents_chain\n",
    "document_chain = create_stuff_documents_chain(\n",
    "    llm=llm,\n",
    "    prompt=prompt\n",
    ")\n",
    "document_chain"
   ]
  },
  {
   "cell_type": "code",
   "execution_count": null,
   "id": "fbb9fdd1",
   "metadata": {},
   "outputs": [],
   "source": [
    "\"\"\"\n",
    "Retreveral chain:   This chain retrieves relevant documents from the vector store based on the query and then uses the LLM to generate a response based on those documents.     \n",
    "\"\"\"\n",
    "\n",
    "from langchain.chains import create_retrieval_chain\n",
    "retriever = db.as_retriever()\n",
    "retrieval_chain = create_retrieval_chain(\n",
    "    retriever, document_chain\n",
    ")"
   ]
  },
  {
   "cell_type": "code",
   "execution_count": null,
   "id": "9e95a089",
   "metadata": {},
   "outputs": [],
   "source": [
    "response = retrieval_chain.invoke({\"input\": query})\n",
    "\n",
    "print(\"\\n🔍 Query:\", response['input'])\n",
    "print(\"\\n📬 Answer:\\n\", response['answer'])\n",
    "\n",
    "print(\"\\n📄 Context Documents:\\n\")\n",
    "for i, doc in enumerate(response['context'], 1):\n",
    "    meta = doc.metadata\n",
    "    print(f\"--- Document {i} ---\")\n",
    "    print(f\"Source: {meta.get('source')}\")\n",
    "    print(f\"Page: {meta.get('page_label', meta.get('page'))}\")\n",
    "    content_preview = doc.page_content.strip().split('\\n')[:5]  # Preview first 5 lines\n",
    "    for line in content_preview:\n",
    "        print(\" \", line)\n",
    "    print()\n",
    "#response['answer']"
   ]
  }
 ],
 "metadata": {
  "kernelspec": {
   "display_name": "venv",
   "language": "python",
   "name": "python3"
  },
  "language_info": {
   "codemirror_mode": {
    "name": "ipython",
    "version": 3
   },
   "file_extension": ".py",
   "mimetype": "text/x-python",
   "name": "python",
   "nbconvert_exporter": "python",
   "pygments_lexer": "ipython3",
   "version": "3.12.2"
  }
 },
 "nbformat": 4,
 "nbformat_minor": 5
}
