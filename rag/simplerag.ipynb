{
 "cells": [
  {
   "cell_type": "markdown",
   "id": "369237c0",
   "metadata": {},
   "source": [
    "## Rag Pipeline with vecror database\n"
   ]
  },
  {
   "cell_type": "markdown",
   "id": "9a0b1f08",
   "metadata": {},
   "source": [
    "## Load ENV"
   ]
  },
  {
   "cell_type": "code",
   "execution_count": 117,
   "id": "18e96463",
   "metadata": {},
   "outputs": [],
   "source": [
    "import os\n",
    "from dotenv import load_dotenv\n",
    "load_dotenv()\n",
    "\n",
    "os.environ[\"OPENAI_API_KEY\"] = os.getenv(\"OPENAI_API_KEY\")"
   ]
  },
  {
   "cell_type": "markdown",
   "id": "64491424",
   "metadata": {},
   "source": [
    "## Load Text file for RAG"
   ]
  },
  {
   "cell_type": "code",
   "execution_count": 118,
   "id": "97d2efa6",
   "metadata": {},
   "outputs": [
    {
     "name": "stdout",
     "output_type": "stream",
     "text": [
      "[Document(metadata={'source': 'speech.txt'}, page_content=\"The Eiffel Tower, located in Paris, France, was completed in 1889 for the World's Fair. It stands approximately 300 metres tall and was originally criticised by many artists and intellectuals for its design. Today, it is one of the most recognised and visited landmarks in the world.Python is a high-level, interpreted programming language known for its readability and versatility. It's widely used in web development, data analysis, machine learning, automation, and scripting. Key features include dynamic typing, a vast standard library, and a large ecosystem of third-party packages.Mangoes are tropical stone fruits enjoyed for their sweet and juicy flesh. India is the largest producer of mangoes in the world. The most popular variety is Alphonso, known for its rich flavour and aroma.In Greek mythology, Athena was the goddess of wisdom, war, and strategy. She was said to have sprung fully grown and armoured from the forehead of Zeus. The city of Athens is named after her.FastAPI is a modern, fast (high-performance) web framework for building APIs with Python 3.7+ based on standard Python type hints. It’s designed to be easy to use while offering features like automatic docs generation with Swagger UI and ReDoc.Wolves are social animals that live and hunt in packs. A typical wolf pack consists of an alpha male and female, their offspring, and other subordinate members. They communicate through body language, scent marking, and vocalisations such as howling.The moon has no atmosphere, which means it doesn't support life and has extreme temperature fluctuations. The far side of the moon wasn't seen until the Soviet Luna 3 mission in 1959.Photosynthesis is the process by which green plants use sunlight to convert carbon dioxide and water into glucose and oxygen. It occurs in the chloroplasts of plant cells, primarily in the leaves.LangChain is a framework for developing applications powered by language models. It simplifies working with LLMs by providing components for prompt management, memory, chaining, and integration with tools like vector stores and APIs.\\n\")]\n"
     ]
    }
   ],
   "source": [
    "\n",
    "import os\n",
    "from langchain_community.document_loaders import TextLoader\n",
    "loader = TextLoader(\"speech.txt\")\n",
    "text_docs = loader.load()\n",
    "print(text_docs)"
   ]
  },
  {
   "cell_type": "markdown",
   "id": "0b9f0514",
   "metadata": {},
   "source": [
    "## Load Website content using HTML Tag for RAG"
   ]
  },
  {
   "cell_type": "code",
   "execution_count": 119,
   "id": "aa8db1ef",
   "metadata": {},
   "outputs": [
    {
     "name": "stdout",
     "output_type": "stream",
     "text": [
      "[Document(metadata={'source': 'https://ekaivakriti.com'}, page_content=\"\\n\\n\\n\\n\\n\\nWho We Are\\nAbout EkaivaKriti\\nEkaivaKriti (एकैवकृति,\\n                        pronounced /ˈeh-KAI-va-kree-tee/) means a\\n                        unique creation in Sanskrit,\\n                    a name that captures our purpose of building digital solutions that stand apart.\\nWe're a small, flexible team that helps businesses grow with digital\\n                    solutions that work. From startups to global enterprises across e‑commerce, solar, healthcare, tech,\\n                    and finance, we turn bold ideas into results that matter. No complexity, no fluff, just outcomes\\n                    that help your business shine.\\n\\n\\nLet's build something truly\\n                            unique, together.\\n\\n\\n\\n\")]\n"
     ]
    }
   ],
   "source": [
    "# Web-based loader\n",
    "from langchain_community.document_loaders import WebBaseLoader\n",
    "import bs4\n",
    "\n",
    "# Load the web page, chunk it, and save it\n",
    "loader = WebBaseLoader(\n",
    "    web_paths=(\"https://ekaivakriti.com\",),\n",
    "    bs_kwargs=dict(\n",
    "        parse_only=bs4.SoupStrainer(class_=\"py-16 bg-gradient-to-br from-white to-blue-50\")\n",
    "    )\n",
    ")\n",
    "\n",
    "web_docs = loader.load()\n",
    "\n",
    "# Show number of loaded documents\n",
    "print(web_docs)"
   ]
  },
  {
   "cell_type": "markdown",
   "id": "1752f290",
   "metadata": {},
   "source": [
    "## Load PDF for RAG"
   ]
  },
  {
   "cell_type": "code",
   "execution_count": 120,
   "id": "072e53b4",
   "metadata": {},
   "outputs": [
    {
     "data": {
      "text/plain": [
       "[Document(metadata={'producer': 'pypdf', 'creator': 'PyPDF', 'creationdate': '', 'source': 'ekaivakriti_pitch_deck.pdf', 'total_pages': 8, 'page': 0, 'page_label': '1'}, page_content='EKekaivakriti\\nYour AI Innovation Partner\\nTransforming businesses with intelligent agents, automation, and data\\ninsights for companies across all industries\\n\\uf544 AI Agent Development \\uf085 Process Automation \\uf201 Advanced Data Analytics\\nMade with Genspark'),\n",
       " Document(metadata={'producer': 'pypdf', 'creator': 'PyPDF', 'creationdate': '', 'source': 'ekaivakriti_pitch_deck.pdf', 'total_pages': 8, 'page': 1, 'page_label': '2'}, page_content='Business Challenges Today\\nWhy organizations need AI-powered solutions\\n\\uf252\\nInefficient Business Processes\\n● 40% of employee time wasted on manual, repetitive tasks\\n● Human errors increase operational costs by 20-30%\\n● Slow approval workflows and process bottlenecks\\n\\uf086\\nPoor Customer Experience\\n● 76% of customers expect personalized interactions\\n● Long response times hurt customer satisfaction\\n● Limited 24/7 support capabilities\\n\\uf1c0\\nUntapped Data Potential\\n● 73% of company data goes unanalyzed\\n● Missed opportunities for predictive insights\\n● Inability to derive actionable intelligence\\n\\uf544\\nTech Integration Challenges\\n● Legacy systems resistant to modernization\\n● Siloed tools and fragmented workflows\\n● Lack of expertise to implement AI solutions\\nThese challenges represent opportunities for AI-powered transformation\\nMade with Genspark'),\n",
       " Document(metadata={'producer': 'pypdf', 'creator': 'PyPDF', 'creationdate': '', 'source': 'ekaivakriti_pitch_deck.pdf', 'total_pages': 8, 'page': 2, 'page_label': '3'}, page_content='Our Core AI Solutions\\nDriving efficiency and innovation with tailored AI solutions\\n\\uf544\\nIntelligent Agents\\nAI-powered assistants that work 24/7 for\\nyour organization\\n✓ 24/7 Customer Support\\n✓ Sales & Lead Qualification\\n✓ Internal Process Automation\\n\\uf085\\nAI Process Automation\\nStreamline operations with intelligent\\nautomation\\n✓ Finance & HR Workflow Automation\\n✓ AI-Enhanced RPA Solutions\\n✓ Smart Document Processing\\n\\uf201\\nAdvanced Data Analytics\\nTurn data into actionable business insights\\n✓ Predictive Modeling\\n✓ Customer Segmentation\\n✓ Trend Analysis\\n\\uf2db\\nCustom AI Models\\nBespoke AI/ML solutions for unique\\nchallenges\\n✓ Fraud Detection Systems\\n✓ Predictive Maintenance\\n✓ Computer Vision Solutions\\n\\uf0eb\\nAI Strategy & Consulting\\nExpert guidance for AI implementation\\n✓ AI Readiness Assessment\\n✓ Opportunity Identification\\n✓ Implementation Roadmap\\n\\uf1e6\\nSeamless AI Integration\\nConnect AI with your existing systems\\n✓ CRM & ERP Integration\\n✓ Website & App Enhancement\\n✓ API Development\\nTailored solutions to address your unique business challenges\\nMade with Genspark'),\n",
       " Document(metadata={'producer': 'pypdf', 'creator': 'PyPDF', 'creationdate': '', 'source': 'ekaivakriti_pitch_deck.pdf', 'total_pages': 8, 'page': 3, 'page_label': '4'}, page_content='Our AI Technology Stack\\nLeveraging cutting-edge tools and frameworks to build intelligent solutions\\nCore AI\\n\\uf3e2\\nPyTorch\\n\\uf1a0\\nTensorFlow\\n\\uf5dc\\nHugging Face\\nLLM & RAG\\n\\uf0c1\\nLangChain\\n\\uf1c0\\nLlamaIndex\\n\\uf5cb\\nVector DBs\\nAgentic AI\\n\\uf544\\nAutoGPT\\n\\uf542\\nLangGraph\\n\\uf509\\nCrewAI\\nAutomation\\n\\uf085\\nRPA Tools\\n\\uf72e\\nApache Airflow\\n\\uf6ff\\nn8n\\nInfrastructure\\n\\uf395\\nDocker\\n☸\\nKubernetes\\n☁\\nCloud AI\\nCombining best-in-class technologies to deliver superior AI solutions\\nMade with Genspark'),\n",
       " Document(metadata={'producer': 'pypdf', 'creator': 'PyPDF', 'creationdate': '', 'source': 'ekaivakriti_pitch_deck.pdf', 'total_pages': 8, 'page': 4, 'page_label': '5'}, page_content=\"AI Across Industries\\nTailored solutions for unique sector challenges\\n\\uf66f\\nBanking & Finance\\n✓ Fraud detection systems\\n✓ Risk assessment models\\n✓ Financial advisory agents\\n\\uf21e\\nHealthcare\\n✓ Diagnostic support systems\\n✓ Patient care optimization\\n✓ Medical data analysis\\n\\uf19d\\nEducation\\n✓ Personalized learning paths\\n✓ Student performance analytics\\n✓ Administrative automation\\n\\uf07a\\nRetail & Ecommerce\\n✓ Product recommendation engines\\n✓ Inventory optimization\\n✓ Customer journey analysis\\n\\uf275\\nManufacturing\\n✓ Predictive maintenance\\n✓ Quality control automation\\n✓ Supply chain optimization\\n\\uf072\\nTour & Travel\\n✓ Personalized itinerary planning\\n✓ Dynamic pricing models\\n✓ Travel assistant chatbots\\n\\uf008\\nMedia & Entertainment\\n✓ Content recommendation\\n✓ Audience segmentation\\n✓ Automated content creation\\n\\uf0f7\\nEnterprise Solutions\\n✓ Internal workflow automation\\n✓ Knowledge management AI\\n✓ Cross-department integration\\nOur AI solutions adapt to any industry's unique requirements and challenges\\nMade with Genspark\"),\n",
       " Document(metadata={'producer': 'pypdf', 'creator': 'PyPDF', 'creationdate': '', 'source': 'ekaivakriti_pitch_deck.pdf', 'total_pages': 8, 'page': 5, 'page_label': '6'}, page_content='Our AI Development Process\\nA structured approach from concept to deployment\\nOur proven methodology ensures successful AI implementation and business value delivery\\n1\\nDiscovery & Strategy\\n\\uf00e\\n✓ Understand business\\ngoals\\n✓ Identify key challenges\\n✓ Define AI strategy &\\nscope\\n2\\nData & Modeling\\n\\uf1c0\\n✓ Data collection &\\ncleaning\\n✓ Model development\\n✓ Validation & testing\\n3\\nDevelopment &\\nIntegration\\n\\uf121\\n✓ Application development\\n✓ System integration\\n✓ User interface design\\n4\\nDeployment &\\nOptimization\\n\\uf135\\n✓ Production deployment\\n✓ Performance monitoring\\n✓ Continuous\\nimprovement\\nMade with Genspark'),\n",
       " Document(metadata={'producer': 'pypdf', 'creator': 'PyPDF', 'creationdate': '', 'source': 'ekaivakriti_pitch_deck.pdf', 'total_pages': 8, 'page': 6, 'page_label': '7'}, page_content='Why Choose Ekaivakriti\\nOur competitive advantages in the AI solutions landscape\\n\\uf559\\nProven AI Expertise\\nOur team brings deep expertise in cutting-\\nedge AI technologies with successful\\nimplementations across diverse industries.\\nWe deliver solutions that work.\\n\\uf12e\\nEnd-to-End Solutions\\nFrom strategic planning to development and\\nongoing optimization, we provide\\ncomprehensive services that address every\\naspect of your AI journey.\\n\\uf275\\nIndustry Expertise\\nOur specialized knowledge across\\nindustries allows us to develop tailored AI\\nsolutions that address unique sector-\\nspecific challenges and opportunities.\\n\\uf3fd\\nRapid Deployment\\nOur streamlined methodology and pre-built\\ncomponents accelerate delivery, helping you\\nachieve faster time-to-value and ROI with AI\\ninvestments.\\n\\uf505\\nSecurity & Compliance\\nWe prioritize data security and regulatory\\ncompliance, implementing robust protocols\\nto protect sensitive information and\\nmaintain trust.\\n\\uf2b5\\nPartnership Approach\\nWe collaborate closely with your team,\\nensuring knowledge transfer, sustainable\\nsolutions, and long-term success beyond\\ninitial implementation.\\nPartner with Ekaivakriti to transform your business with AI solutions designed for real impact\\nMade with Genspark'),\n",
       " Document(metadata={'producer': 'pypdf', 'creator': 'PyPDF', 'creationdate': '', 'source': 'ekaivakriti_pitch_deck.pdf', 'total_pages': 8, 'page': 7, 'page_label': '8'}, page_content=\"Ready to Transform Your Business with AI?\\nLet's start your AI journey today\\n✉\\nGet in Touch\\nhello@ekaivakriti.com\\nOur team of AI experts is ready to discuss your needs\\nContact Us\\nYour Path to AI Success\\nEkaivakriti — Your partner in turning AI's limitless potential into real business impact\\n\\uf08c \\uf099 \\uf09a \\uf16d\\n\\uf086\\nInitial Consultation\\nDiscuss your business goals and challenges\\nwith our AI experts\\n1\\n\\uf0f6\\nSolution Proposal\\nReceive a customized AI strategy tailored to\\nyour specific needs\\n2\\n\\uf135\\nImplementation\\nBegin your AI transformation journey with\\nour expert team\\n3\\nMade with Genspark\")]"
      ]
     },
     "execution_count": 120,
     "metadata": {},
     "output_type": "execute_result"
    }
   ],
   "source": [
    "from langchain_community.document_loaders import PyPDFLoader\n",
    "loader = PyPDFLoader(\"ekaivakriti_pitch_deck.pdf\")\n",
    "pdf_docs = loader.load()\n",
    "pdf_docs"
   ]
  },
  {
   "cell_type": "markdown",
   "id": "d48fad7e",
   "metadata": {},
   "source": [
    "## Load JSon for RAG\n"
   ]
  },
  {
   "cell_type": "code",
   "execution_count": 121,
   "id": "73b7adc7",
   "metadata": {},
   "outputs": [
    {
     "name": "stdout",
     "output_type": "stream",
     "text": [
      "JSON saved to website_data_a6755b5c.json\n",
      "Total Documents Loaded: 13\n",
      "Content: EkaivaKriti is based in Gurgaon, India. Tagline: Build, Automate, Grow. Serving industries: solar, h\n",
      "Metadata: {'name': 'EkaivaKriti', 'location': 'Gurgaon, India', 'tagline': 'Build, Automate, Grow', 'source': 'https://ekaivakriti.com/ekv_chatbot.json', 'type': 'info'}\n",
      "\n",
      "Content: EkaivaKriti offers AI‑powered solutions, web & mobile development, digital marketing, e‑commerce, an\n",
      "Metadata: {'url': 'https://ekaivakriti.com/', 'title': 'Home', 'content': 'EkaivaKriti offers AI‑powered solutions, web & mobile development, digital marketing, e‑commerce, and business automation. Based in Gurgaon, we serve ambitious brands worldwide to help them build, automate and grow.', 'source': 'https://ekaivakriti.com/ekv_chatbot.json', 'type': '0'}\n",
      "\n",
      "Content: EkaivaKriti (एकैवकृति, pronounced /ˈeh‑KAI‑va‑kree‑tee/) means “a unique creation” in Sanskrit. We’r\n",
      "Metadata: {'url': 'https://ekaivakriti.com/about-us', 'title': 'About Us', 'content': 'EkaivaKriti (एकैवकृति, pronounced /ˈeh‑KAI‑va‑kree‑tee/) means “a unique creation” in Sanskrit. We’re a flexible team of innovators working across startups to enterprises in solar, healthcare, finance, e‑commerce and more. We focus on delivering real results—no fluff, just digital solutions that help your business shine.', 'source': 'https://ekaivakriti.com/ekv_chatbot.json', 'type': '1'}\n",
      "\n",
      "Content: Our services include AI automation, digital marketing, website and app development, e‑commerce solut\n",
      "Metadata: {'url': 'https://ekaivakriti.com/services', 'title': 'Services Overview', 'content': 'Our services include AI automation, digital marketing, website and app development, e‑commerce solutions, business process automation and tech consultancy.', 'source': 'https://ekaivakriti.com/ekv_chatbot.json', 'type': '2'}\n",
      "\n",
      "Content: We design AI automation systems for businesses in healthcare, finance, e‑commerce, education, touris\n",
      "Metadata: {'url': 'https://ekaivakriti.com/services/ai-solutions', 'title': 'AI Automation Solutions', 'content': 'We design AI automation systems for businesses in healthcare, finance, e‑commerce, education, tourism, and more. Use cases include chatbots, workflow automation, and business process optimization to save 20+ hours per week and deliver measurable ROI.', 'source': 'https://ekaivakriti.com/ekv_chatbot.json', 'type': '3'}\n",
      "\n",
      "Content: Our tech consultancy helps businesses with digital strategy, cloud and CTO services. We offer proven\n",
      "Metadata: {'url': 'https://ekaivakriti.com/services/tech-consultancy', 'title': 'Tech Consultancy & Strategy', 'content': 'Our tech consultancy helps businesses with digital strategy, cloud and CTO services. We offer proven frameworks and actionable advice as a trusted partner in growth.', 'source': 'https://ekaivakriti.com/ekv_chatbot.json', 'type': '4'}\n",
      "\n",
      "Content: We build professional, scalable websites across industries like banking, education, healthcare, trav\n",
      "Metadata: {'url': 'https://ekaivakriti.com/services/website-design-development', 'title': 'Website Design & Development', 'content': 'We build professional, scalable websites across industries like banking, education, healthcare, travel and enterprise. Sites are responsive, fast-loading and aligned with business goals.', 'source': 'https://ekaivakriti.com/ekv_chatbot.json', 'type': '5'}\n",
      "\n",
      "Content: A guide detailing AI automation use cases and strategies to boost growth, monetize processes, and op\n",
      "Metadata: {'url': 'https://ekaivakriti.com/blog/ai-automation-monetization-use-cases', 'title': 'AI Automation Monetization Guide', 'content': 'A guide detailing AI automation use cases and strategies to boost growth, monetize processes, and optimize workflows for real business impact.', 'source': 'https://ekaivakriti.com/ekv_chatbot.json', 'type': '6'}\n",
      "\n",
      "Content: Explore our portfolio showcasing successful projects in AI automation, web development, and digital \n",
      "Metadata: {'url': 'https://ekaivakriti.com/portfolio', 'title': 'Portfolio', 'content': 'Explore our portfolio showcasing successful projects in AI automation, web development, and digital marketing for clients in healthcare, e-commerce, and finance. Highlights include a chatbot for a healthcare provider and an e-commerce platform with 30% sales growth.', 'source': 'https://ekaivakriti.com/ekv_chatbot.json', 'type': '7'}\n",
      "\n",
      "Content: Get in touch with EkaivaKriti for your next project. Reach us via email, phone, or our online form t\n",
      "Metadata: {'url': 'https://ekaivakriti.com/contact', 'title': 'Contact Us', 'content': 'Get in touch with EkaivaKriti for your next project. Reach us via email, phone, or our online form to discuss AI solutions, web development, or consultancy needs.', 'source': 'https://ekaivakriti.com/ekv_chatbot.json', 'type': '8'}\n",
      "\n",
      "Content: Discover the latest digital marketing trends for 2025, including AI-driven campaigns, personalized c\n",
      "Metadata: {'url': 'https://ekaivakriti.com/blog/digital-marketing-strategies-2025', 'title': 'Digital Marketing Strategies for 2025', 'content': 'Discover the latest digital marketing trends for 2025, including AI-driven campaigns, personalized content, and SEO strategies to boost online visibility and engagement.', 'source': 'https://ekaivakriti.com/ekv_chatbot.json', 'type': '9'}\n",
      "\n",
      "Content: EkaivaKriti's AI chatbot transformed our customer service, saving us 25 hours weekly.\n",
      "Metadata: {'client': 'Healthcare Provider', 'quote': \"EkaivaKriti's AI chatbot transformed our customer service, saving us 25 hours weekly.\", 'industry': 'Healthcare', 'date': '2025-05-20', 'source': 'https://ekaivakriti.com/ekv_chatbot.json', 'type': '0'}\n",
      "\n",
      "Content: Their e-commerce platform boosted our sales by 30% in just three months.\n",
      "Metadata: {'client': 'E-commerce Startup', 'quote': 'Their e-commerce platform boosted our sales by 30% in just three months.', 'industry': 'E-commerce', 'date': '2025-06-10', 'source': 'https://ekaivakriti.com/ekv_chatbot.json', 'type': '1'}\n",
      "\n"
     ]
    }
   ],
   "source": [
    "import requests\n",
    "import json\n",
    "from langchain_core.documents import Document\n",
    "from typing import Dict, Any, List\n",
    "import uuid\n",
    "\n",
    "# Helper function to flatten nested dictionaries\n",
    "def flatten_dict(d: Dict[str, Any], parent_key: str = '', sep: str = '_') -> Dict[str, Any]:\n",
    "    \"\"\"Flatten a nested dictionary into a single-level dictionary with concatenated keys.\"\"\"\n",
    "    items = []\n",
    "    for key, value in d.items():\n",
    "        new_key = f\"{parent_key}{sep}{key}\" if parent_key else key\n",
    "        if isinstance(value, dict):\n",
    "            items.extend(flatten_dict(value, new_key, sep).items())\n",
    "        elif isinstance(value, list) and all(isinstance(item, dict) for item in value):\n",
    "            continue  # Skip lists of dictionaries; handle separately\n",
    "        else:\n",
    "            items.append((new_key, value))\n",
    "    return dict(items)\n",
    "\n",
    "# Helper function to create a Document\n",
    "def create_document(content: str, metadata: Dict[str, Any], default_type: str = \"generic\") -> Document:\n",
    "    \"\"\"Create a LangChain Document with content and metadata.\"\"\"\n",
    "    return Document(\n",
    "        page_content=str(content)[:10000],  # Truncate to avoid excessive length\n",
    "        metadata={k: v for k, v in metadata.items() if v is not None}\n",
    "    )\n",
    "\n",
    "# Main processing logic\n",
    "try:\n",
    "    # Fixed URL for ekaivakriti.com\n",
    "    url = \"https://ekaivakriti.com/ekv_chatbot.json\".strip()\n",
    "    \n",
    "    # Download JSON\n",
    "    response = requests.get(url)\n",
    "    response.raise_for_status()\n",
    "    data = response.json()\n",
    "\n",
    "    # Save JSON with a unique filename\n",
    "    filename = f\"website_data_{uuid.uuid4().hex[:8]}.json\"\n",
    "    with open(filename, \"w\", encoding=\"utf-8\") as f:\n",
    "        json.dump(data, f, ensure_ascii=False, indent=2)\n",
    "    print(f\"JSON saved to {filename}\")\n",
    "\n",
    "    # Process JSON into Documents\n",
    "    json_docs: List[Document] = []\n",
    "\n",
    "    def process_json(obj: Any, parent_key: str = '', depth: int = 0) -> None:\n",
    "        \"\"\"Recursively process JSON to create Documents.\"\"\"\n",
    "        if isinstance(obj, dict):\n",
    "            # Flatten dictionary for metadata, excluding nested dictionaries or lists\n",
    "            metadata = flatten_dict({k: v for k, v in obj.items() if not isinstance(v, (dict, list))})\n",
    "            metadata['source'] = url\n",
    "            metadata['type'] = parent_key.split('_')[-1] if parent_key else 'root'\n",
    "\n",
    "            # Create Document for textual content if present\n",
    "            content_fields = ['content', 'description', 'quote', 'text', 'body']\n",
    "            content = next((obj.get(field) for field in content_fields if obj.get(field) and isinstance(obj.get(field), str)), '')\n",
    "\n",
    "            # Special handling for company_info to create a summary Document\n",
    "            if parent_key == 'company_info' and not content:\n",
    "                content = (\n",
    "                    f\"{obj.get('name', '')} is based in {obj.get('location', '')}. \"\n",
    "                    f\"Tagline: {obj.get('tagline', '')}. \"\n",
    "                    f\"Serving industries: {', '.join(obj.get('industries_served', []))}. \"\n",
    "                    f\"Contact: {obj.get('contact_info', {}).get('email', '')}, \"\n",
    "                    f\"{obj.get('contact_info', {}).get('phone', '')}, \"\n",
    "                    f\"{obj.get('contact_info', {}).get('address', '')}.\"\n",
    "                )\n",
    "\n",
    "            if content:\n",
    "                json_docs.append(create_document(content, metadata))\n",
    "\n",
    "            # Recursively process nested dictionaries and lists\n",
    "            for key, value in obj.items():\n",
    "                if isinstance(value, (dict, list)):\n",
    "                    process_json(value, f\"{parent_key}_{key}\" if parent_key else key, depth + 1)\n",
    "\n",
    "        elif isinstance(obj, list):\n",
    "            # Process each item in the list\n",
    "            for i, item in enumerate(obj):\n",
    "                process_json(item, f\"{parent_key}_item_{i}\", depth + 1)\n",
    "\n",
    "    # Process the JSON data\n",
    "    process_json(data)\n",
    "\n",
    "    # Preview results\n",
    "    print(\"Total Documents Loaded:\", len(json_docs))\n",
    "    for doc in json_docs[:20]:\n",
    "        print(\"Content:\", doc.page_content[:100])\n",
    "        print(\"Metadata:\", doc.metadata)\n",
    "        print()\n",
    "\n",
    "except requests.RequestException as e:\n",
    "    print(f\"Error fetching URL: {e}\")\n",
    "except json.JSONDecodeError as e:\n",
    "    print(f\"Error decoding JSON: {e}\")\n",
    "except Exception as e:\n",
    "    print(f\"Unexpected error: {e}\")"
   ]
  },
  {
   "cell_type": "markdown",
   "id": "c61b2b4c",
   "metadata": {},
   "source": [
    "## Split the document\n"
   ]
  },
  {
   "cell_type": "code",
   "execution_count": 122,
   "id": "4aadafaa",
   "metadata": {},
   "outputs": [
    {
     "name": "stdout",
     "output_type": "stream",
     "text": [
      "Number of chunks created: 27\n",
      "First chunk (first 200 chars): EkaivaKriti is based in Gurgaon, India. Tagline: Build, Automate, Grow. Serving industries: solar, healthcare, finance, e-commerce, education, tourism, enterprise. Contact: info@ekaivakriti.com, +91-1\n"
     ]
    }
   ],
   "source": [
    "from langchain.schema import Document\n",
    "from langchain.text_splitter import RecursiveCharacterTextSplitter\n",
    "\n",
    "# Set up the text splitter\n",
    "text_splitter = RecursiveCharacterTextSplitter(\n",
    "    chunk_size=1000,\n",
    "    chunk_overlap=200\n",
    ")\n",
    "\n",
    "# Your data variables (replace with your actual variable names)\n",
    "data_sources = {\n",
    "    \"json\": json_docs,\n",
    "    \"pdf\": pdf_docs,\n",
    "    \"web\": web_docs,\n",
    "    \"text\": text_docs\n",
    "}\n",
    "\n",
    "# Convert data to Document format if needed\n",
    "def make_documents(data, source):\n",
    "    # If already a list of Documents, return it\n",
    "    if isinstance(data, list) and all(isinstance(item, Document) for item in data):\n",
    "        return data\n",
    "    # If a single string, make one Document\n",
    "    if isinstance(data, str):\n",
    "        return [Document(page_content=data, metadata={\"source\": source})]\n",
    "    # If a list of strings, make a Document for each\n",
    "    if isinstance(data, list) and all(isinstance(item, str) for item in data):\n",
    "        return [Document(page_content=text, metadata={\"source\": f\"{source}_{i}\"}) for i, text in enumerate(data)]\n",
    "    return []  # Return empty list if data is invalid\n",
    "\n",
    "# Collect all documents\n",
    "all_docs = []\n",
    "for source, data in data_sources.items():\n",
    "    docs = make_documents(data, source)\n",
    "    all_docs.extend(docs)\n",
    "\n",
    "# Split all documents into chunks\n",
    "chunked_documents = text_splitter.split_documents(all_docs)\n",
    "\n",
    "# Show results\n",
    "print(\"Number of chunks created:\", len(chunked_documents))\n",
    "if chunked_documents:\n",
    "    print(\"First chunk (first 200 chars):\", chunked_documents[0].page_content[:200])"
   ]
  },
  {
   "cell_type": "markdown",
   "id": "a0dc2409",
   "metadata": {},
   "source": [
    "## Vector Embedding & Vector Store - Faiss\n",
    "\n"
   ]
  },
  {
   "cell_type": "code",
   "execution_count": 123,
   "id": "da543a73",
   "metadata": {},
   "outputs": [
    {
     "data": {
      "text/plain": [
       "<langchain_community.vectorstores.faiss.FAISS at 0x14721fe30>"
      ]
     },
     "execution_count": 123,
     "metadata": {},
     "output_type": "execute_result"
    }
   ],
   "source": [
    "from langchain_community.embeddings import OpenAIEmbeddings\n",
    "from langchain_community.embeddings import OllamaEmbeddings\n",
    "from langchain_community.vectorstores import FAISS\n",
    "db = FAISS.from_documents(chunked_documents, OpenAIEmbeddings())\n",
    "db"
   ]
  },
  {
   "cell_type": "markdown",
   "id": "6645e643",
   "metadata": {},
   "source": [
    "## Query from stored data"
   ]
  },
  {
   "cell_type": "code",
   "execution_count": 130,
   "id": "8b1c0e9e",
   "metadata": {},
   "outputs": [
    {
     "name": "stdout",
     "output_type": "stream",
     "text": [
      "Our tech consultancy helps businesses with digital strategy, cloud and CTO services. We offer proven frameworks and actionable advice as a trusted partner in growth.\n"
     ]
    }
   ],
   "source": [
    "query = \"consultancy?\"\n",
    "retrieved_results = db.similarity_search(query, k=1)\n",
    "for result in retrieved_results:\n",
    "    print(result.page_content)"
   ]
  }
 ],
 "metadata": {
  "kernelspec": {
   "display_name": "venv",
   "language": "python",
   "name": "python3"
  },
  "language_info": {
   "codemirror_mode": {
    "name": "ipython",
    "version": 3
   },
   "file_extension": ".py",
   "mimetype": "text/x-python",
   "name": "python",
   "nbconvert_exporter": "python",
   "pygments_lexer": "ipython3",
   "version": "3.12.2"
  }
 },
 "nbformat": 4,
 "nbformat_minor": 5
}
