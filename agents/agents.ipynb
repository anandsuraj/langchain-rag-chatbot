{
 "cells": [
  {
   "cell_type": "markdown",
   "id": "02b7e13f",
   "metadata": {},
   "source": [
    "## Rag with multi Data Source "
   ]
  },
  {
   "cell_type": "code",
   "execution_count": null,
   "id": "956561ed",
   "metadata": {},
   "outputs": [],
   "source": [
    "\n",
    "from langchain_community.tools import WikipediaQueryRun\n",
    "from langchain_community.utilities import WikipediaAPIWrapper"
   ]
  },
  {
   "cell_type": "code",
   "execution_count": null,
   "id": "cd20178a",
   "metadata": {},
   "outputs": [],
   "source": [
    "api_wrapper = WikipediaAPIWrapper(top_k_results=5, doc_content_chars_max=250)\n",
    "wiki= WikipediaQueryRun(api_wrapper=api_wrapper)\n",
    "print(wiki.name)"
   ]
  },
  {
   "cell_type": "code",
   "execution_count": null,
   "id": "61d4a8cc",
   "metadata": {},
   "outputs": [],
   "source": [
    "from langchain_community.document_loaders import WebBaseLoader\n",
    "from langchain_community.vectorstores import FAISS\n",
    "\n",
    "from langchain_openai import OpenAIEmbeddings # you can use OllamaEmbeddings or HuggingFaceEmbeddings as well\n",
    "from langchain_text_splitters import RecursiveCharacterTextSplitter\n",
    "import bs4  \n",
    "\n",
    "loader = WebBaseLoader(\"https://ekaivakriti.com/\")\n",
    "docs = loader.load()\n",
    "documents= RecursiveCharacterTextSplitter(chunk_size=1000, chunk_overlap=200).split_documents(docs)\n",
    "vectorDb = FAISS.from_documents(documents, OpenAIEmbeddings())\n",
    "retriever = vectorDb.as_retriever\n",
    "retriever"
   ]
  },
  {
   "cell_type": "code",
   "execution_count": null,
   "id": "23f1e2ae",
   "metadata": {},
   "outputs": [],
   "source": [
    "from langchain.tools.retriever import create_retriever_tool\n",
    "RetrieverTool = create_retriever_tool(\n",
    "    retriever=retriever,\n",
    "    name=\"WebRetriever\",\n",
    "    description=\"Useful for retrieving information from the web.\"\n",
    ")"
   ]
  },
  {
   "cell_type": "markdown",
   "id": "e12770e0",
   "metadata": {},
   "source": [
    "## Arxiv Tool(Just like Wiki Tool)"
   ]
  },
  {
   "cell_type": "code",
   "execution_count": null,
   "id": "f8431e8b",
   "metadata": {},
   "outputs": [],
   "source": [
    "from langchain_community.utilities import ArxivAPIWrapper\n",
    "from langchain_community.tools import ArxivQueryRun\n",
    "arxiv_wrapper = ArxivAPIWrapper(top_k_results=1, doc_content_chars_max=250)\n",
    "arxiv = ArxivQueryRun(api_wrapper=arxiv_wrapper)"
   ]
  },
  {
   "cell_type": "code",
   "execution_count": null,
   "id": "8c451556",
   "metadata": {},
   "outputs": [],
   "source": [
    "tools = [wiki, arxiv, RetrieverTool]"
   ]
  },
  {
   "cell_type": "code",
   "execution_count": null,
   "id": "e1c2e919",
   "metadata": {},
   "outputs": [],
   "source": [
    "from dotenv import load_dotenv\n",
    "load_dotenv()\n",
    "import os\n",
    "\n",
    "os.environ[\"OPENAI_API_KEY\"] = os.getenv(\"OPENAI_API_KEY\")\n",
    "from langchain_openai import ChatOpenAI\n",
    "llm = ChatOpenAI(model=\"gpt-3.5-turbo-0125\", temperature=0)"
   ]
  },
  {
   "cell_type": "markdown",
   "id": "c2f822ab",
   "metadata": {},
   "source": [
    "## Prompt Template"
   ]
  },
  {
   "cell_type": "code",
   "execution_count": null,
   "id": "40589ec7",
   "metadata": {},
   "outputs": [],
   "source": [
    "from langchain import hub\n",
    "prompt = hub.pull(\"hwchase17/openai-functions-agent\")"
   ]
  },
  {
   "cell_type": "markdown",
   "id": "50ed949d",
   "metadata": {},
   "source": [
    "## Agents"
   ]
  },
  {
   "cell_type": "code",
   "execution_count": null,
   "id": "9b753a42",
   "metadata": {},
   "outputs": [],
   "source": [
    "from langchain.agents import create_openai_tools_agent\n",
    "agent = create_openai_tools_agent(llm, tools, prompt) #chain"
   ]
  },
  {
   "cell_type": "code",
   "execution_count": null,
   "id": "e7d224cb",
   "metadata": {},
   "outputs": [],
   "source": [
    "## To run Agent We need Agent Executor\n",
    "from langchain.agents import AgentExecutor\n",
    "agent_executer = AgentExecutor(agent=agent, tools=tools, verbose=True)"
   ]
  },
  {
   "cell_type": "code",
   "execution_count": null,
   "id": "14436ab4",
   "metadata": {},
   "outputs": [],
   "source": [
    "agent_executer.invoke({\"input\": \"What is the latest research on AI in healthcare?\"})"
   ]
  },
  {
   "cell_type": "code",
   "execution_count": null,
   "id": "a9fd8c81",
   "metadata": {},
   "outputs": [],
   "source": [
    "agent_executer.invoke({\"input\": \"Tell me about Ekaivakriti?\"})"
   ]
  }
 ],
 "metadata": {
  "kernelspec": {
   "display_name": "venv",
   "language": "python",
   "name": "python3"
  },
  "language_info": {
   "codemirror_mode": {
    "name": "ipython",
    "version": 3
   },
   "file_extension": ".py",
   "mimetype": "text/x-python",
   "name": "python",
   "nbconvert_exporter": "python",
   "pygments_lexer": "ipython3",
   "version": "3.12.2"
  }
 },
 "nbformat": 4,
 "nbformat_minor": 5
}
